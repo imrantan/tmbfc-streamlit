{
 "cells": [
  {
   "cell_type": "code",
   "execution_count": 48,
   "metadata": {},
   "outputs": [],
   "source": [
    "import pandas as pd\n",
    "import matplotlib.pyplot as plt\n",
    "from mplsoccer.pitch import Pitch\n",
    "import seaborn as sns"
   ]
  },
  {
   "cell_type": "code",
   "execution_count": 49,
   "metadata": {},
   "outputs": [],
   "source": [
    "# pip install mplsoccer"
   ]
  },
  {
   "cell_type": "code",
   "execution_count": 60,
   "metadata": {},
   "outputs": [],
   "source": [
    "#Read in the data\n",
    "df = pd.read_csv('data/dummy_pass_stats.csv')\n",
    "# df = pd.read_excel('data/pass_stats_generator.xlsx')\n",
    "# df = pd.read_excel('data/pass_stats_generator.xlsx')"
   ]
  },
  {
   "cell_type": "code",
   "execution_count": 61,
   "metadata": {},
   "outputs": [],
   "source": [
    "#convert the data to match the mplsoccer statsbomb pitch\n",
    "#to see how to create the pitch, watch the video here: https://www.youtube.com/watch?v=55k1mCRyd2k\n",
    "df['x'] = df['x']*1.2\n",
    "df['y'] = df['y']*.8\n",
    "df['endX'] = df['endX']*1.2\n",
    "df['endY'] = df['endY']*.8"
   ]
  },
  {
   "cell_type": "code",
   "execution_count": 62,
   "metadata": {},
   "outputs": [
    {
     "data": {
      "text/html": [
       "<div>\n",
       "<style scoped>\n",
       "    .dataframe tbody tr th:only-of-type {\n",
       "        vertical-align: middle;\n",
       "    }\n",
       "\n",
       "    .dataframe tbody tr th {\n",
       "        vertical-align: top;\n",
       "    }\n",
       "\n",
       "    .dataframe thead th {\n",
       "        text-align: right;\n",
       "    }\n",
       "</style>\n",
       "<table border=\"1\" class=\"dataframe\">\n",
       "  <thead>\n",
       "    <tr style=\"text-align: right;\">\n",
       "      <th></th>\n",
       "      <th>player</th>\n",
       "      <th>x</th>\n",
       "      <th>y</th>\n",
       "      <th>outcome</th>\n",
       "      <th>endX</th>\n",
       "      <th>endY</th>\n",
       "    </tr>\n",
       "  </thead>\n",
       "  <tbody>\n",
       "    <tr>\n",
       "      <th>0</th>\n",
       "      <td>Khalis</td>\n",
       "      <td>49.2</td>\n",
       "      <td>24.0</td>\n",
       "      <td>Successful</td>\n",
       "      <td>28.8</td>\n",
       "      <td>29.6</td>\n",
       "    </tr>\n",
       "    <tr>\n",
       "      <th>1</th>\n",
       "      <td>Khalis</td>\n",
       "      <td>56.4</td>\n",
       "      <td>24.8</td>\n",
       "      <td>Successful</td>\n",
       "      <td>78.0</td>\n",
       "      <td>56.0</td>\n",
       "    </tr>\n",
       "    <tr>\n",
       "      <th>2</th>\n",
       "      <td>Khalis</td>\n",
       "      <td>70.8</td>\n",
       "      <td>42.4</td>\n",
       "      <td>Unsuccessful</td>\n",
       "      <td>74.4</td>\n",
       "      <td>38.4</td>\n",
       "    </tr>\n",
       "    <tr>\n",
       "      <th>3</th>\n",
       "      <td>Khalis</td>\n",
       "      <td>67.2</td>\n",
       "      <td>48.0</td>\n",
       "      <td>Unsuccessful</td>\n",
       "      <td>99.6</td>\n",
       "      <td>51.2</td>\n",
       "    </tr>\n",
       "    <tr>\n",
       "      <th>4</th>\n",
       "      <td>Khalis</td>\n",
       "      <td>112.8</td>\n",
       "      <td>70.4</td>\n",
       "      <td>Unsuccessful</td>\n",
       "      <td>103.2</td>\n",
       "      <td>24.8</td>\n",
       "    </tr>\n",
       "  </tbody>\n",
       "</table>\n",
       "</div>"
      ],
      "text/plain": [
       "   player      x     y       outcome   endX  endY\n",
       "0  Khalis   49.2  24.0    Successful   28.8  29.6\n",
       "1  Khalis   56.4  24.8    Successful   78.0  56.0\n",
       "2  Khalis   70.8  42.4  Unsuccessful   74.4  38.4\n",
       "3  Khalis   67.2  48.0  Unsuccessful   99.6  51.2\n",
       "4  Khalis  112.8  70.4  Unsuccessful  103.2  24.8"
      ]
     },
     "execution_count": 62,
     "metadata": {},
     "output_type": "execute_result"
    }
   ],
   "source": [
    "df.head()"
   ]
  },
  {
   "cell_type": "code",
   "execution_count": 70,
   "metadata": {},
   "outputs": [
    {
     "data": {
      "text/html": [
       "<div>\n",
       "<style scoped>\n",
       "    .dataframe tbody tr th:only-of-type {\n",
       "        vertical-align: middle;\n",
       "    }\n",
       "\n",
       "    .dataframe tbody tr th {\n",
       "        vertical-align: top;\n",
       "    }\n",
       "\n",
       "    .dataframe thead th {\n",
       "        text-align: right;\n",
       "    }\n",
       "</style>\n",
       "<table border=\"1\" class=\"dataframe\">\n",
       "  <thead>\n",
       "    <tr style=\"text-align: right;\">\n",
       "      <th></th>\n",
       "      <th>player</th>\n",
       "      <th>x</th>\n",
       "      <th>y</th>\n",
       "      <th>outcome</th>\n",
       "      <th>endX</th>\n",
       "      <th>endY</th>\n",
       "    </tr>\n",
       "  </thead>\n",
       "  <tbody>\n",
       "    <tr>\n",
       "      <th>681</th>\n",
       "      <td>Gan</td>\n",
       "      <td>106.8</td>\n",
       "      <td>41.6</td>\n",
       "      <td>Unsuccessful</td>\n",
       "      <td>63.6</td>\n",
       "      <td>10.4</td>\n",
       "    </tr>\n",
       "    <tr>\n",
       "      <th>682</th>\n",
       "      <td>Gan</td>\n",
       "      <td>64.8</td>\n",
       "      <td>11.2</td>\n",
       "      <td>Unsuccessful</td>\n",
       "      <td>100.8</td>\n",
       "      <td>36.8</td>\n",
       "    </tr>\n",
       "    <tr>\n",
       "      <th>683</th>\n",
       "      <td>Gan</td>\n",
       "      <td>68.4</td>\n",
       "      <td>15.2</td>\n",
       "      <td>Successful</td>\n",
       "      <td>72.0</td>\n",
       "      <td>5.6</td>\n",
       "    </tr>\n",
       "    <tr>\n",
       "      <th>684</th>\n",
       "      <td>Gan</td>\n",
       "      <td>82.8</td>\n",
       "      <td>21.6</td>\n",
       "      <td>Unsuccessful</td>\n",
       "      <td>72.0</td>\n",
       "      <td>24.8</td>\n",
       "    </tr>\n",
       "    <tr>\n",
       "      <th>685</th>\n",
       "      <td>Gan</td>\n",
       "      <td>49.2</td>\n",
       "      <td>15.2</td>\n",
       "      <td>Successful</td>\n",
       "      <td>96.0</td>\n",
       "      <td>33.6</td>\n",
       "    </tr>\n",
       "  </tbody>\n",
       "</table>\n",
       "</div>"
      ],
      "text/plain": [
       "    player      x     y       outcome   endX  endY\n",
       "681    Gan  106.8  41.6  Unsuccessful   63.6  10.4\n",
       "682    Gan   64.8  11.2  Unsuccessful  100.8  36.8\n",
       "683    Gan   68.4  15.2    Successful   72.0   5.6\n",
       "684    Gan   82.8  21.6  Unsuccessful   72.0  24.8\n",
       "685    Gan   49.2  15.2    Successful   96.0  33.6"
      ]
     },
     "execution_count": 70,
     "metadata": {},
     "output_type": "execute_result"
    }
   ],
   "source": [
    "df.tail()"
   ]
  },
  {
   "cell_type": "code",
   "execution_count": 64,
   "metadata": {},
   "outputs": [
    {
     "data": {
      "text/plain": [
       "array(['Khalis', 'Faris', 'Hafiz', 'Danish', 'Imran', 'Isa', 'Muk',\n",
       "       'Abdullah', 'Farhan', 'Ashraf', 'Hamizan', 'Hanif', 'Nabil', 'Gan'],\n",
       "      dtype=object)"
      ]
     },
     "execution_count": 64,
     "metadata": {},
     "output_type": "execute_result"
    }
   ],
   "source": [
    "df['player'].unique()"
   ]
  },
  {
   "cell_type": "code",
   "execution_count": 69,
   "metadata": {},
   "outputs": [
    {
     "data": {
      "text/plain": [
       "array(['Successful', 'Unsuccessful'], dtype=object)"
      ]
     },
     "execution_count": 69,
     "metadata": {},
     "output_type": "execute_result"
    }
   ],
   "source": [
    "df['outcome'].unique()"
   ]
  },
  {
   "cell_type": "code",
   "execution_count": 65,
   "metadata": {},
   "outputs": [
    {
     "data": {
      "text/html": [
       "<div>\n",
       "<style scoped>\n",
       "    .dataframe tbody tr th:only-of-type {\n",
       "        vertical-align: middle;\n",
       "    }\n",
       "\n",
       "    .dataframe tbody tr th {\n",
       "        vertical-align: top;\n",
       "    }\n",
       "\n",
       "    .dataframe thead th {\n",
       "        text-align: right;\n",
       "    }\n",
       "</style>\n",
       "<table border=\"1\" class=\"dataframe\">\n",
       "  <thead>\n",
       "    <tr style=\"text-align: right;\">\n",
       "      <th></th>\n",
       "      <th>player</th>\n",
       "      <th>x</th>\n",
       "      <th>y</th>\n",
       "      <th>outcome</th>\n",
       "      <th>endX</th>\n",
       "      <th>endY</th>\n",
       "    </tr>\n",
       "  </thead>\n",
       "  <tbody>\n",
       "    <tr>\n",
       "      <th>49</th>\n",
       "      <td>Faris</td>\n",
       "      <td>34.8</td>\n",
       "      <td>8.0</td>\n",
       "      <td>Unsuccessful</td>\n",
       "      <td>44.4</td>\n",
       "      <td>12.0</td>\n",
       "    </tr>\n",
       "    <tr>\n",
       "      <th>50</th>\n",
       "      <td>Faris</td>\n",
       "      <td>40.8</td>\n",
       "      <td>13.6</td>\n",
       "      <td>Unsuccessful</td>\n",
       "      <td>44.4</td>\n",
       "      <td>36.0</td>\n",
       "    </tr>\n",
       "    <tr>\n",
       "      <th>51</th>\n",
       "      <td>Faris</td>\n",
       "      <td>64.8</td>\n",
       "      <td>20.0</td>\n",
       "      <td>Successful</td>\n",
       "      <td>55.2</td>\n",
       "      <td>26.4</td>\n",
       "    </tr>\n",
       "    <tr>\n",
       "      <th>52</th>\n",
       "      <td>Faris</td>\n",
       "      <td>56.4</td>\n",
       "      <td>31.2</td>\n",
       "      <td>Successful</td>\n",
       "      <td>76.8</td>\n",
       "      <td>42.4</td>\n",
       "    </tr>\n",
       "    <tr>\n",
       "      <th>53</th>\n",
       "      <td>Faris</td>\n",
       "      <td>88.8</td>\n",
       "      <td>33.6</td>\n",
       "      <td>Successful</td>\n",
       "      <td>70.8</td>\n",
       "      <td>11.2</td>\n",
       "    </tr>\n",
       "  </tbody>\n",
       "</table>\n",
       "</div>"
      ],
      "text/plain": [
       "   player     x     y       outcome  endX  endY\n",
       "49  Faris  34.8   8.0  Unsuccessful  44.4  12.0\n",
       "50  Faris  40.8  13.6  Unsuccessful  44.4  36.0\n",
       "51  Faris  64.8  20.0    Successful  55.2  26.4\n",
       "52  Faris  56.4  31.2    Successful  76.8  42.4\n",
       "53  Faris  88.8  33.6    Successful  70.8  11.2"
      ]
     },
     "execution_count": 65,
     "metadata": {},
     "output_type": "execute_result"
    }
   ],
   "source": [
    "df_test = df[df['player']=='Faris']\n",
    "df_test.head()"
   ]
  },
  {
   "cell_type": "code",
   "execution_count": 71,
   "metadata": {},
   "outputs": [],
   "source": [
    "def generate_heatmap(df_input, player_name):\n",
    "    df = df_input[df_input['player']==player_name]\n",
    "    fig ,ax = plt.subplots(figsize=(13.5,8))\n",
    "    fig.set_facecolor('#22312b')\n",
    "    ax.patch.set_facecolor('#22312b')\n",
    "\n",
    "    #this is how we create the pitch\n",
    "    pitch = Pitch(pitch_type='statsbomb', \n",
    "                pitch_color='#22312b', \n",
    "                line_color='#c7d5cc',\n",
    "                )\n",
    "\n",
    "    #Draw the pitch on the ax figure as well as invert the axis for this specific pitch\n",
    "    pitch.draw(ax=ax)\n",
    "    plt.gca().invert_yaxis()\n",
    "\n",
    "    #Create the heatmap\n",
    "    kde = sns.kdeplot(\n",
    "            x=df['x'],\n",
    "            y=df['y'],\n",
    "            fill = True,\n",
    "            shade_lowest=False,\n",
    "            alpha=.5,\n",
    "            n_levels=10,\n",
    "            cmap = 'magma'\n",
    "    )\n",
    "\n",
    "    #use a for loop to plot each pass\n",
    "    # for x in range(len(df['x'])):\n",
    "    #     if df['outcome'][x] == 'Successful':\n",
    "    #         plt.plot((df['x'][x],df['endX'][x]),(df['y'][x],df['endY'][x]),color='green')\n",
    "    #         plt.scatter(df['x'][x],df['y'][x],color='green')\n",
    "    #     if df['outcome'][x] == 'Unsuccessful':\n",
    "    #         plt.plot((df['x'][x],df['endX'][x]),(df['y'][x],df['endY'][x]),color='red')\n",
    "    #         plt.scatter(df['x'][x],df['y'][x],color='red')\n",
    "            \n",
    "    plt.xlim(0,120)\n",
    "    plt.ylim(0,80)\n",
    "\n",
    "    plt.title('Player Heat Map From Recent Games',color='white',size=20)"
   ]
  },
  {
   "cell_type": "code",
   "execution_count": 80,
   "metadata": {},
   "outputs": [
    {
     "data": {
      "image/png": "[encoded data removed]",
      "text/plain": [
       "<Figure size 1350x800 with 1 Axes>"
      ]
     },
     "metadata": {},
     "output_type": "display_data"
    }
   ],
   "source": [
    "generate_heatmap(df, 'Danish')"
   ]
  },
  {
   "cell_type": "code",
   "execution_count": null,
   "metadata": {},
   "outputs": [],
   "source": []
  }
 ],
 "metadata": {
  "kernelspec": {
   "display_name": "Python 3",
   "language": "python",
   "name": "python3"
  },
  "language_info": {
   "codemirror_mode": {
    "name": "ipython",
    "version": 3
   },
   "file_extension": ".py",
   "mimetype": "text/x-python",
   "name": "python",
   "nbconvert_exporter": "python",
   "pygments_lexer": "ipython3",
   "version": "3.12.2"
  }
 },
 "nbformat": 4,
 "nbformat_minor": 2
}
